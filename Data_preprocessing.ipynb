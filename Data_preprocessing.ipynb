{
  "cells": [
    {
      "cell_type": "code",
      "execution_count": 2,
      "metadata": {
        "colab": {
          "base_uri": "https://localhost:8080/"
        },
        "id": "fzzXtodf1hoQ",
        "outputId": "0efd56c5-9ced-45bb-b768-9d028bd47b6d"
      },
      "outputs": [],
      "source": [
        "#from google.colab import drive\n",
        "#drive.mount('/content/drive')"
      ]
    },
    {
      "cell_type": "code",
      "execution_count": 3,
      "metadata": {
        "id": "gHKPjT4ZRK-4"
      },
      "outputs": [],
      "source": [
        "# importing libraries\n",
        "import pandas as pd\n",
        "import scipy\n",
        "import numpy as np\n",
        "from sklearn.preprocessing import MinMaxScaler\n",
        "import seaborn as sns\n",
        "import matplotlib.pyplot as plt\n"
      ]
    },
    {
      "cell_type": "code",
      "execution_count": 4,
      "metadata": {
        "id": "KPELoW6XRLjz"
      },
      "outputs": [
        {
          "name": "stdout",
          "output_type": "stream",
          "text": [
            "            Disease Symptom_1   Symptom_2              Symptom_3  \\\n",
            "0  Fungal infection   itching   skin_rash   nodal_skin_eruptions   \n",
            "1  Fungal infection   itching   skin_rash   nodal_skin_eruptions   \n",
            "2  Fungal infection   itching   skin_rash   nodal_skin_eruptions   \n",
            "3  Fungal infection   itching   skin_rash   nodal_skin_eruptions   \n",
            "4  Fungal infection   itching   skin_rash   nodal_skin_eruptions   \n",
            "\n",
            "  Specialization                   Name        State    City  user_rating  \\\n",
            "0  dermatologist        DR. AAMIR RIYAZ  MAHARASHTRA  NAGPUR            4   \n",
            "1  dermatologist  DR. ADATIA RUPA PAWAN  MAHARASHTRA  NAGPUR            5   \n",
            "2  dermatologist      DR. DANDALE AMEET  MAHARASHTRA  MUMBAI            0   \n",
            "3  dermatologist       DR. KAPOOR RINKY  MAHARASHTRA  MUMBAI            3   \n",
            "4  dermatologist      DR. TALATHI ABHAY  MAHARASHTRA  MUMBAI            3   \n",
            "\n",
            "            schedule  \n",
            "0  01:30 PM-02:00 PM  \n",
            "1  07:00 PM-07:30 PM  \n",
            "2  12:30 PM-01:00 PM  \n",
            "3  07:00 PM-07:30 PM  \n",
            "4  02:30 PM-03:00 PM  \n"
          ]
        }
      ],
      "source": [
        "# Load the dataset\n",
        "df = pd.read_csv('updated_dataset.csv')\n",
        "\n",
        "print(df.head())"
      ]
    },
    {
      "cell_type": "code",
      "execution_count": 5,
      "metadata": {
        "id": "hf0GQmNwRS32"
      },
      "outputs": [
        {
          "data": {
            "text/plain": [
              "Disease           0\n",
              "Symptom_1         0\n",
              "Symptom_2         0\n",
              "Symptom_3         0\n",
              "Specialization    0\n",
              "Name              0\n",
              "State             0\n",
              "City              0\n",
              "user_rating       0\n",
              "schedule          0\n",
              "dtype: int64"
            ]
          },
          "execution_count": 5,
          "metadata": {},
          "output_type": "execute_result"
        }
      ],
      "source": [
        "# df.info()\n",
        "df.isnull().sum()"
      ]
    },
    {
      "cell_type": "code",
      "execution_count": 6,
      "metadata": {
        "id": "KIEIpVkQRX9k"
      },
      "outputs": [
        {
          "name": "stdout",
          "output_type": "stream",
          "text": [
            "Original Dataset:\n",
            "               Disease   Symptom_1    Symptom_2              Symptom_3  \\\n",
            "0     Fungal infection     itching    skin_rash   nodal_skin_eruptions   \n",
            "1     Fungal infection     itching    skin_rash   nodal_skin_eruptions   \n",
            "2     Fungal infection     itching    skin_rash   nodal_skin_eruptions   \n",
            "3     Fungal infection     itching    skin_rash   nodal_skin_eruptions   \n",
            "4     Fungal infection     itching    skin_rash   nodal_skin_eruptions   \n",
            "...                ...         ...          ...                    ...   \n",
            "5945          Impetigo   skin_rash   high_fever                blister   \n",
            "5946          Impetigo   skin_rash   high_fever                blister   \n",
            "5947          Impetigo   skin_rash   high_fever                blister   \n",
            "5948          Impetigo   skin_rash   high_fever                blister   \n",
            "5949          Impetigo   skin_rash   high_fever                blister   \n",
            "\n",
            "     Specialization                   Name        State        City  \\\n",
            "0     dermatologist        DR. AAMIR RIYAZ  MAHARASHTRA      NAGPUR   \n",
            "1     dermatologist  DR. ADATIA RUPA PAWAN  MAHARASHTRA      NAGPUR   \n",
            "2     dermatologist      DR. DANDALE AMEET  MAHARASHTRA      MUMBAI   \n",
            "3     dermatologist       DR. KAPOOR RINKY  MAHARASHTRA      MUMBAI   \n",
            "4     dermatologist      DR. TALATHI ABHAY  MAHARASHTRA      MUMBAI   \n",
            "...             ...                    ...          ...         ...   \n",
            "5945  dermatologist         DR. RATH ANITA       ODISHA     KHORDHA   \n",
            "5946  dermatologist       DR. AGARWAL ANIL      HARYANA     GURGAON   \n",
            "5947  dermatologist     DR. AGARWAL BIPLAV      HARYANA     GURGAON   \n",
            "5948  dermatologist      DR. DADU NIVEDITA        DELHI  WEST DELHI   \n",
            "5949  dermatologist             DR. JANGID        DELHI   NEW DELHI   \n",
            "\n",
            "      user_rating           schedule  \n",
            "0               4  01:30 PM-02:00 PM  \n",
            "1               5  07:00 PM-07:30 PM  \n",
            "2               0  12:30 PM-01:00 PM  \n",
            "3               3  07:00 PM-07:30 PM  \n",
            "4               3  02:30 PM-03:00 PM  \n",
            "...           ...                ...  \n",
            "5945            3  06:00 PM-06:30 PM  \n",
            "5946            0  04:30 PM-05:00 PM  \n",
            "5947            2  12:00 PM-12:30 PM  \n",
            "5948            2  11:30 AM-12:00 PM  \n",
            "5949            1  02:00 PM-02:30 PM  \n",
            "\n",
            "[5950 rows x 10 columns]\n",
            "\n",
            "Checking for missing values:\n",
            "Disease           0\n",
            "Symptom_1         0\n",
            "Symptom_2         0\n",
            "Symptom_3         0\n",
            "Specialization    0\n",
            "Name              0\n",
            "State             0\n",
            "City              0\n",
            "user_rating       0\n",
            "schedule          0\n",
            "dtype: int64\n",
            "\n",
            "Dataset after dropping rows with missing values:\n",
            "               Disease   Symptom_1    Symptom_2              Symptom_3  \\\n",
            "0     Fungal infection     itching    skin_rash   nodal_skin_eruptions   \n",
            "1     Fungal infection     itching    skin_rash   nodal_skin_eruptions   \n",
            "2     Fungal infection     itching    skin_rash   nodal_skin_eruptions   \n",
            "3     Fungal infection     itching    skin_rash   nodal_skin_eruptions   \n",
            "4     Fungal infection     itching    skin_rash   nodal_skin_eruptions   \n",
            "...                ...         ...          ...                    ...   \n",
            "5945          Impetigo   skin_rash   high_fever                blister   \n",
            "5946          Impetigo   skin_rash   high_fever                blister   \n",
            "5947          Impetigo   skin_rash   high_fever                blister   \n",
            "5948          Impetigo   skin_rash   high_fever                blister   \n",
            "5949          Impetigo   skin_rash   high_fever                blister   \n",
            "\n",
            "     Specialization                   Name        State        City  \\\n",
            "0     dermatologist        DR. AAMIR RIYAZ  MAHARASHTRA      NAGPUR   \n",
            "1     dermatologist  DR. ADATIA RUPA PAWAN  MAHARASHTRA      NAGPUR   \n",
            "2     dermatologist      DR. DANDALE AMEET  MAHARASHTRA      MUMBAI   \n",
            "3     dermatologist       DR. KAPOOR RINKY  MAHARASHTRA      MUMBAI   \n",
            "4     dermatologist      DR. TALATHI ABHAY  MAHARASHTRA      MUMBAI   \n",
            "...             ...                    ...          ...         ...   \n",
            "5945  dermatologist         DR. RATH ANITA       ODISHA     KHORDHA   \n",
            "5946  dermatologist       DR. AGARWAL ANIL      HARYANA     GURGAON   \n",
            "5947  dermatologist     DR. AGARWAL BIPLAV      HARYANA     GURGAON   \n",
            "5948  dermatologist      DR. DADU NIVEDITA        DELHI  WEST DELHI   \n",
            "5949  dermatologist             DR. JANGID        DELHI   NEW DELHI   \n",
            "\n",
            "      user_rating           schedule  \n",
            "0               4  01:30 PM-02:00 PM  \n",
            "1               5  07:00 PM-07:30 PM  \n",
            "2               0  12:30 PM-01:00 PM  \n",
            "3               3  07:00 PM-07:30 PM  \n",
            "4               3  02:30 PM-03:00 PM  \n",
            "...           ...                ...  \n",
            "5945            3  06:00 PM-06:30 PM  \n",
            "5946            0  04:30 PM-05:00 PM  \n",
            "5947            2  12:00 PM-12:30 PM  \n",
            "5948            2  11:30 AM-12:00 PM  \n",
            "5949            1  02:00 PM-02:30 PM  \n",
            "\n",
            "[5950 rows x 10 columns]\n",
            "\n",
            "Cleaned dataset saved to: cleaned_dataset.csv\n"
          ]
        },
        {
          "name": "stderr",
          "output_type": "stream",
          "text": [
            "/var/folders/hq/gbdp9m5d2_b7qyjp4npk25740000gn/T/ipykernel_15897/3925616736.py:19: FutureWarning: A value is trying to be set on a copy of a DataFrame or Series through chained assignment using an inplace method.\n",
            "The behavior will change in pandas 3.0. This inplace method will never work because the intermediate object on which we are setting values always behaves as a copy.\n",
            "\n",
            "For example, when doing 'df[col].method(value, inplace=True)', try using 'df.method({col: value}, inplace=True)' or df[col] = df[col].method(value) instead, to perform the operation inplace on the original object.\n",
            "\n",
            "\n",
            "  df[col].fillna('NO OTHER SYMPTOM', inplace=True)\n"
          ]
        }
      ],
      "source": [
        "import pandas as pd\n",
        "\n",
        "# Load dataset from CSV file\n",
        "df = pd.read_csv('updated_dataset.csv')\n",
        "\n",
        "\n",
        "# Display the original dataset\n",
        "print(\"Original Dataset:\")\n",
        "print(df)\n",
        "\n",
        "# Check for missing values\n",
        "print(\"\\nChecking for missing values:\")\n",
        "print(df.isnull().sum())  # Display the count of missing values in each column\n",
        "\n",
        "# Fill missing values only for columns that exist\n",
        "for i in range(1, 18):  # Symptom_1 to Symptom_17\n",
        "    col = f'Symptom_{i}'\n",
        "    if col in df.columns:\n",
        "        df[col].fillna('NO OTHER SYMPTOM', inplace=True)\n",
        "\n",
        "# Drop rows with missing values in important columns\n",
        "df_cleaned = df.dropna(subset=['Specialization', 'Name', 'State', 'City'])\n",
        "\n",
        "# Display the cleaned dataset\n",
        "print(\"\\nDataset after dropping rows with missing values:\")\n",
        "print(df_cleaned)\n",
        "\n",
        "# Save the cleaned dataset to a local CSV file\n",
        "cleaned_file_path = 'cleaned_dataset.csv'\n",
        "df_cleaned.to_csv(cleaned_file_path, index=False)\n",
        "\n",
        "print(f\"\\nCleaned dataset saved to: {cleaned_file_path}\")\n"
      ]
    },
    {
      "cell_type": "code",
      "execution_count": 7,
      "metadata": {
        "colab": {
          "base_uri": "https://localhost:8080/"
        },
        "id": "JufoU-7jVmLz",
        "outputId": "5021a15a-1223-4779-d69c-9eccecac30e6"
      },
      "outputs": [
        {
          "name": "stdout",
          "output_type": "stream",
          "text": [
            "Number of duplicate rows: 34\n",
            "✅ Duplicate rows removed and cleaned dataset saved to 'cleaned_dataset.csv'\n"
          ]
        }
      ],
      "source": [
        "import pandas as pd\n",
        "\n",
        "# Load dataset\n",
        "df = pd.read_csv('updated_dataset.csv')\n",
        "\n",
        "# Identify and count duplicate rows\n",
        "duplicate_mask = df.duplicated()\n",
        "num_duplicates = duplicate_mask.sum()\n",
        "print(f\"Number of duplicate rows: {num_duplicates}\")\n",
        "\n",
        "# Remove duplicate rows\n",
        "df_cleaned = df.drop_duplicates()\n",
        "\n",
        "# Save the cleaned DataFrame locally\n",
        "df_cleaned.to_csv('cleaned_dataset.csv', index=False)\n",
        "\n",
        "print(\"✅ Duplicate rows removed and cleaned dataset saved to 'cleaned_dataset.csv'\")\n"
      ]
    },
    {
      "cell_type": "code",
      "execution_count": 8,
      "metadata": {
        "colab": {
          "base_uri": "https://localhost:8080/"
        },
        "id": "p8_tNTnnXR1f",
        "outputId": "04d763a2-385b-48f4-d930-4b0cd5cd6564"
      },
      "outputs": [
        {
          "name": "stdout",
          "output_type": "stream",
          "text": [
            "✅ Encoded dataset saved to: encoded_dataset.csv\n"
          ]
        }
      ],
      "source": [
        "import pandas as pd\n",
        "from sklearn.preprocessing import LabelEncoder\n",
        "\n",
        "# Load your dataset\n",
        "df = pd.read_csv('updated_dataset.csv')\n",
        "\n",
        "# Identify object columns for label encoding\n",
        "object_columns = df.select_dtypes(include=['object']).columns\n",
        "\n",
        "# Initialize LabelEncoder\n",
        "label_encoder = LabelEncoder()\n",
        "\n",
        "# Encode object columns and store the mapping\n",
        "for col in object_columns:\n",
        "    df[col] = label_encoder.fit_transform(df[col])\n",
        "    # Optional: save the mapping if needed for future decoding\n",
        "    mapping_dict = dict(zip(label_encoder.classes_, label_encoder.transform(label_encoder.classes_)))\n",
        "    # Add the encoded column (same as transformed original now)\n",
        "    df[f'{col}_Encoded'] = df[col]\n",
        "\n",
        "# Save the modified DataFrame locally\n",
        "encoded_csv_path = 'encoded_dataset.csv'\n",
        "df.to_csv(encoded_csv_path, index=False)\n",
        "\n",
        "print(f\"✅ Encoded dataset saved to: {encoded_csv_path}\")\n",
        "\n"
      ]
    },
    {
      "cell_type": "code",
      "execution_count": 9,
      "metadata": {
        "colab": {
          "base_uri": "https://localhost:8080/"
        },
        "id": "0sjunRdLZRvB",
        "outputId": "79f4be95-6233-45ae-87d2-6914b51a6c6b"
      },
      "outputs": [
        {
          "name": "stdout",
          "output_type": "stream",
          "text": [
            "✅ Processed dataset saved to: normalized_encoded_dataset.csv\n"
          ]
        }
      ],
      "source": [
        "import pandas as pd\n",
        "from sklearn.preprocessing import MinMaxScaler\n",
        "\n",
        "# Define local file paths\n",
        "input_file_path = 'encoded_dataset.csv'\n",
        "output_file_path = 'normalized_encoded_dataset.csv'\n",
        "\n",
        "# Load the dataset\n",
        "df = pd.read_csv(input_file_path)\n",
        "\n",
        "# Identify numerical columns for scaling\n",
        "numerical_columns = df.select_dtypes(include=['int64', 'float64']).columns\n",
        "\n",
        "# Initialize MinMaxScaler\n",
        "scaler = MinMaxScaler()\n",
        "\n",
        "# Apply Min-Max scaling to numerical columns\n",
        "df[numerical_columns] = scaler.fit_transform(df[numerical_columns])\n",
        "\n",
        "# Save the processed dataset with normalized values to a new CSV file\n",
        "df.to_csv(output_file_path, index=False)\n",
        "\n",
        "print(f\"✅ Processed dataset saved to: {output_file_path}\")\n"
      ]
    }
  ],
  "metadata": {
    "colab": {
      "provenance": []
    },
    "kernelspec": {
      "display_name": "Python 3",
      "name": "python3"
    },
    "language_info": {
      "codemirror_mode": {
        "name": "ipython",
        "version": 3
      },
      "file_extension": ".py",
      "mimetype": "text/x-python",
      "name": "python",
      "nbconvert_exporter": "python",
      "pygments_lexer": "ipython3",
      "version": "3.12.6"
    }
  },
  "nbformat": 4,
  "nbformat_minor": 0
}
