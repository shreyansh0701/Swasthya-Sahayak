{
  "cells": [
    {
      "cell_type": "code",
      "execution_count": 1,
      "metadata": {
        "colab": {
          "base_uri": "https://localhost:8080/"
        },
        "id": "0eyGQKy4SaBc",
        "outputId": "c0c4c553-1f92-4d00-8701-d4ccf49a8e41"
      },
      "outputs": [
        {
          "name": "stdout",
          "output_type": "stream",
          "text": [
            "Recommendations:\n",
            "No recommendation found\n"
          ]
        }
      ],
      "source": [
        "import pandas as pd\n",
        "from difflib import get_close_matches\n",
        "from datetime import datetime\n",
        "\n",
        "# Sample dataset\n",
        "df = pd.read_csv('./updated_dataset.csv')\n",
        "\n",
        "\n",
        "def closest_match(symptom, symptoms_list):\n",
        "    closest = get_close_matches(symptom, symptoms_list, n=1, cutoff=0.8)  # Adjust the cutoff threshold as needed\n",
        "    return closest[0] if closest else None\n",
        "\n",
        "def parse_schedule(schedule_str):\n",
        "    # Parse the schedule string to extract start and end times\n",
        "    start, end = schedule_str.split('-')\n",
        "    start_time = datetime.strptime(start.strip(), \"%I:%M %p\")\n",
        "    end_time = datetime.strptime(end.strip(), \"%I:%M %p\")\n",
        "    return start_time, end_time\n",
        "\n",
        "def recommend(symptom_1, symptom_2, symptom_3):\n",
        "    if symptom_1 == symptom_2 or symptom_1 == symptom_3 or symptom_2 == symptom_3:\n",
        "        return \"Symptoms 1, 2, and 3 should be different and unique.\"\n",
        "\n",
        "    all_symptoms = set([symptom_1, symptom_2, symptom_3])\n",
        "    all_recommendations = {}\n",
        "\n",
        "    for symptom in all_symptoms:\n",
        "        closest_symptom = closest_match(symptom, df[['Symptom_1', 'Symptom_2', 'Symptom_3']].values.flatten().tolist())\n",
        "\n",
        "        if closest_symptom:\n",
        "            filtered_df = df[df.apply(lambda x: closest_symptom in x.values, axis=1)]\n",
        "\n",
        "            if filtered_df.empty:\n",
        "                continue\n",
        "\n",
        "            for idx, row in filtered_df.iterrows():\n",
        "                disease = row['Disease']\n",
        "                recommendation = {\n",
        "                    \"Name\": row['Name'],\n",
        "                    \"City\": row['City'],\n",
        "                    \"State\": row['State'],\n",
        "                    \"Rating\": int(row['user_rating']),  # Convert rating to integer\n",
        "                    \"Schedule\": parse_schedule(row['schedule'])\n",
        "                }\n",
        "                if disease in all_recommendations:\n",
        "                    all_recommendations[disease].append(recommendation)\n",
        "                else:\n",
        "                    all_recommendations[disease] = [recommendation]\n",
        "\n",
        "    # If no recommendations are found based on any symptom, return an appropriate message\n",
        "    if not all_recommendations:\n",
        "        return \"No recommendation found\"\n",
        "    # Sort recommendations based on rating and schedule availability for each disease\n",
        "    for disease, details in all_recommendations.items():\n",
        "        # Sort by rating in descending order\n",
        "        details.sort(key=lambda x: x.get('Rating', 0), reverse=True)\n",
        "        # Then sort by schedule availability\n",
        "        details.sort(key=lambda x: x.get('Schedule')[0])\n",
        "\n",
        "    return all_recommendations\n",
        "\n",
        "\n",
        "# Input symptoms\n",
        "symptom_1 = input(\"Enter symptom 1: \")\n",
        "symptom_2 = input(\"Enter symptom 2: \")\n",
        "symptom_3 = input(\"Enter symptom 3: \")\n",
        "\n",
        "# Get recommendations\n",
        "recommendations = recommend(symptom_1, symptom_2, symptom_3)\n",
        "print(\"Recommendations:\")\n",
        "if isinstance(recommendations, str):\n",
        "    print(recommendations)\n",
        "else:\n",
        "    for disease, doctors in recommendations.items():\n",
        "        print(\"For Disease:\", disease)\n",
        "        if doctors:\n",
        "            top_doctor = doctors[0]  # Select the top-rated doctor\n",
        "            print(\"Recommendation\")\n",
        "            print(\"Name:\", top_doctor[\"Name\"])\n",
        "            print(\"City:\", top_doctor[\"City\"])\n",
        "            print(\"State:\", top_doctor[\"State\"])\n",
        "            print(\"Rating:\", top_doctor[\"Rating\"])\n",
        "            print(\"Schedule:\", top_doctor[\"Schedule\"][0].strftime(\"%I:%M %p\"), \"-\", top_doctor[\"Schedule\"][1].strftime(\"%I:%M %p\"))\n",
        "        else:\n",
        "            print(\"No recommendation found for this disease\")\n",
        "        print()\n"
      ]
    },
    {
      "cell_type": "code",
      "execution_count": null,
      "metadata": {},
      "outputs": [],
      "source": []
    },
    {
      "cell_type": "code",
      "execution_count": 2,
      "metadata": {
        "colab": {
          "base_uri": "https://localhost:8080/"
        },
        "id": "DZCd_1mpJpHr",
        "outputId": "4952f4e2-4528-48d8-8e9a-7292b5cdd5be"
      },
      "outputs": [],
      "source": [
        "#from google.colab import drive\n",
        "#drive.mount('/content/drive')"
      ]
    }
  ],
  "metadata": {
    "colab": {
      "provenance": []
    },
    "kernelspec": {
      "display_name": "Python 3",
      "language": "python",
      "name": "python3"
    },
    "language_info": {
      "codemirror_mode": {
        "name": "ipython",
        "version": 3
      },
      "file_extension": ".py",
      "mimetype": "text/x-python",
      "name": "python",
      "nbconvert_exporter": "python",
      "pygments_lexer": "ipython3",
      "version": "3.12.6"
    }
  },
  "nbformat": 4,
  "nbformat_minor": 0
}
